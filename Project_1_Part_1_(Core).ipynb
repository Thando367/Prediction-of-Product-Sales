{
  "nbformat": 4,
  "nbformat_minor": 0,
  "metadata": {
    "colab": {
      "provenance": [],
      "authorship_tag": "ABX9TyOBVFXMI54GrnS1c3sSaUsS",
      "include_colab_link": true
    },
    "kernelspec": {
      "name": "python3",
      "display_name": "Python 3"
    },
    "language_info": {
      "name": "python"
    }
  },
  "cells": [
    {
      "cell_type": "markdown",
      "metadata": {
        "id": "view-in-github",
        "colab_type": "text"
      },
      "source": [
        "<a href=\"https://colab.research.google.com/github/Thando367/Prediction-of-Product-Sales/blob/main/Project_1_Part_1_(Core).ipynb\" target=\"_parent\"><img src=\"https://colab.research.google.com/assets/colab-badge.svg\" alt=\"Open In Colab\"/></a>"
      ]
    },
    {
      "cell_type": "markdown",
      "source": [
        "<h1>Prediction of Product Sales\n",
        "\n"
      ],
      "metadata": {
        "id": "LqSAmnf1es6W"
      }
    },
    {
      "cell_type": "markdown",
      "source": [
        "Author: Thandolwethu Siloyi"
      ],
      "metadata": {
        "id": "riu3OtO6e6Jb"
      }
    },
    {
      "cell_type": "markdown",
      "source": [
        "<h2>Project Overview"
      ],
      "metadata": {
        "id": "0goJj99ge3Z1"
      }
    },
    {
      "cell_type": "code",
      "source": [
        "Sales prediction for food items sold at various stores"
      ],
      "metadata": {
        "id": "0ch96UfAfum1"
      },
      "execution_count": null,
      "outputs": []
    },
    {
      "cell_type": "markdown",
      "source": [
        "<h2>Load and Inspect Data"
      ],
      "metadata": {
        "id": "3EFnFVd8fDtG"
      }
    },
    {
      "cell_type": "code",
      "source": [],
      "metadata": {
        "id": "RnC2Q4p-fyM8"
      },
      "execution_count": null,
      "outputs": []
    },
    {
      "cell_type": "markdown",
      "source": [
        "<h1>Clean Data"
      ],
      "metadata": {
        "id": "eWI_3gQFfKtm"
      }
    },
    {
      "cell_type": "code",
      "source": [],
      "metadata": {
        "id": "ui2oYofafz5d"
      },
      "execution_count": null,
      "outputs": []
    },
    {
      "cell_type": "markdown",
      "source": [
        "<h2>\"Exploratory Data Analysis"
      ],
      "metadata": {
        "id": "i9fhun_bfUdG"
      }
    },
    {
      "cell_type": "code",
      "source": [],
      "metadata": {
        "id": "geactFbxf0k9"
      },
      "execution_count": null,
      "outputs": []
    },
    {
      "cell_type": "markdown",
      "source": [
        "<h2>Explanatory Data Analysis"
      ],
      "metadata": {
        "id": "9Xl-T7mnfXtl"
      }
    },
    {
      "cell_type": "code",
      "source": [],
      "metadata": {
        "id": "mKv6NwG0f1W0"
      },
      "execution_count": null,
      "outputs": []
    }
  ]
}